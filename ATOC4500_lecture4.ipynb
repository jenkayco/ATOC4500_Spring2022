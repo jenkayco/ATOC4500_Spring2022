{
  "nbformat": 4,
  "nbformat_minor": 0,
  "metadata": {
    "colab": {
      "name": "ATOC4500_lecture4.ipynb",
      "provenance": [],
      "collapsed_sections": []
    },
    "kernelspec": {
      "name": "python3",
      "display_name": "Python 3"
    },
    "language_info": {
      "name": "python"
    }
  },
  "cells": [
    {
      "cell_type": "markdown",
      "source": [
        "**ATOC4500 Data Science Lab - Lecture #4 Notebook** \n",
        "\n",
        "*last updated: February 15, 2022 before class* \n",
        "\n",
        "*Written by Prof. Kay (Jennifer.E.Kay@colorado.edu)*"
      ],
      "metadata": {
        "id": "I1OlxRrRNlkh"
      }
    },
    {
      "cell_type": "code",
      "execution_count": 14,
      "metadata": {
        "id": "T2x3AMKGRBTc"
      },
      "outputs": [],
      "source": [
        "## Load Python Packages\n",
        "\n",
        "import scipy.stats as stats\n",
        "import numpy as np\n",
        "import matplotlib.pyplot as plt\n",
        "import pandas as pd\n",
        "from google.colab import files\n",
        "\n",
        "import seaborn as sns  ### seaborn just makes things pretty -- no new typing\n",
        "sns.set_style('whitegrid')  ###  change away from grey grid (seaborn default) to white grid"
      ]
    },
    {
      "cell_type": "markdown",
      "source": [
        "##**LINEAR REGRESSION idealized**##"
      ],
      "metadata": {
        "id": "q7ZCIDADNCD1"
      }
    },
    {
      "cell_type": "code",
      "source": [
        "### Make some random linear data (X,Y). Plot it.\n",
        "xdata=np.random.randn()*np.arange(0,10,0.5)\n",
        "ydata=np.random.randn()*np.arange(0,10,0.5)+3.0\n",
        "plt.plot(xdata,ydata);\n",
        "plt.xlabel('X Data',fontsize=14);\n",
        "plt.ylabel('Y Data',fontsize=14);"
      ],
      "metadata": {
        "colab": {
          "base_uri": "https://localhost:8080/",
          "height": 283
        },
        "id": "IsbtNR0WRDv_",
        "outputId": "148c8912-b50d-412c-879c-8906f44ddcfe"
      },
      "execution_count": 10,
      "outputs": [
        {
          "output_type": "display_data",
          "data": {
            "image/png": "[encoded data removed]",
            "text/plain": [
              "<Figure size 432x288 with 1 Axes>"
            ]
          },
          "metadata": {}
        }
      ]
    },
    {
      "cell_type": "code",
      "source": [
        "### Calculate the correlation statistics - direct (and fast) way\n",
        "### Shows calculation using equations in Barnes notes (Chapter 2)\n",
        "\n",
        "## calculate anomaly (i.e., subtract the mean)\n",
        "xdata_anom=xdata-np.mean(xdata)\n",
        "ydata_anom=ydata-np.mean(ydata)\n",
        "\n",
        "## calculate the variance and covariance\n",
        "variancex=np.sum((xdata_anom*xdata_anom))\n",
        "variancey=np.sum((ydata_anom*ydata_anom))\n",
        "covariance=np.dot(xdata_anom,ydata_anom)\n",
        "\n",
        "## calculate the slope, the y-intercept, and the correlation coefficient\n",
        "slope_direct=covariance/variancex                            ##Barnes Chapter 2, Eq. (14)\n",
        "intercept_direct=np.mean(ydata)-slope_direct*np.mean(xdata)  ##Barnes Chapter 2, Eq. (15)\n",
        "rvalue_direct=np.dot(xdata_anom,ydata_anom)/(np.sqrt(variancex)*np.sqrt(variancey)) ##Barnes Chapter 2, Eq. (31)\n",
        "\n",
        "## print values\n",
        "print('direct method slope_direct: ',round(slope_direct,3))\n",
        "print('direct method intercept_direct: ',round(intercept_direct,3))\n",
        "print('direct method rvalue_direct: ',round(rvalue_direct,3))"
      ],
      "metadata": {
        "colab": {
          "base_uri": "https://localhost:8080/"
        },
        "id": "OkoXGHP-qrML",
        "outputId": "830a2f53-722a-44eb-8fda-424fedbe8c41"
      },
      "execution_count": 11,
      "outputs": [
        {
          "output_type": "stream",
          "name": "stdout",
          "text": [
            "direct method slope_direct:  -6.75\n",
            "direct method intercept_direct:  3.0\n",
            "direct method rvalue_direct:  -1.0\n"
          ]
        }
      ]
    },
    {
      "cell_type": "code",
      "source": [
        "### Calculate the correlation statistics using stats.linregress (python function)\n",
        "## slow way, but convenient, answers should be the same...\n",
        "\n",
        "slope, intercept, r_value, p_value, std_err = stats.linregress(xdata,ydata)\n",
        "print('scipy.stats.linregress slope: ',round(slope,3))\n",
        "print('scipy.stats.linregress intercept: ',round(intercept,3))\n",
        "print('scipy.stats.linregress r_value: ',round(r_value,3))"
      ],
      "metadata": {
        "colab": {
          "base_uri": "https://localhost:8080/"
        },
        "id": "ET7N2XICafz8",
        "outputId": "3365c723-131f-4cc7-a5ac-5a6476adcde0"
      },
      "execution_count": 12,
      "outputs": [
        {
          "output_type": "stream",
          "name": "stdout",
          "text": [
            "scipy.stats.linregress slope:  -6.75\n",
            "scipy.stats.linregress intercept:  3.0\n",
            "scipy.stats.linregress r_value:  -1.0\n"
          ]
        }
      ]
    },
    {
      "cell_type": "markdown",
      "source": [
        "##**LINEAR REGRESSION with real data**##"
      ],
      "metadata": {
        "id": "bHCpWkhEOt_1"
      }
    },
    {
      "cell_type": "markdown",
      "source": [
        "####STEP 1: Read in the data"
      ],
      "metadata": {
        "id": "zvBERUQ_PSbV"
      }
    },
    {
      "cell_type": "code",
      "source": [
        "# PLEASE MAKE SURE YOU ARE USING GOOGLE CHROME as your browser, otherwise it may not load the file\n",
        "# click on \"Choose Files\" to upload class_grades_detailed_anonymous.csv\n",
        "uploaded = files.upload()\n",
        "\n",
        "for fn in uploaded.keys():\n",
        "  print('User uploaded file \"{name}\" with length {length} bytes'.format(\n",
        "      name=fn, length=len(uploaded[fn])))"
      ],
      "metadata": {
        "id": "s4jJrcmaYNB1",
        "colab": {
          "base_uri": "https://localhost:8080/",
          "height": 90,
          "resources": {
            "http://localhost:8080/nbextensions/google.colab/files.js": {
              "data": "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",
              "ok": true,
              "headers": [
                [
                  "content-type",
                  "application/javascript"
                ]
              ],
              "status": 200,
              "status_text": ""
            }
          }
        },
        "outputId": "f7a31077-11a2-4c3b-9a3c-535d438792e9"
      },
      "execution_count": 15,
      "outputs": [
        {
          "output_type": "display_data",
          "data": {
            "text/html": [
              "\n",
              "     <input type=\"file\" id=\"files-60e0d7cd-febe-4024-82c8-843b6da7f1d2\" name=\"files[]\" multiple disabled\n",
              "        style=\"border:none\" />\n",
              "     <output id=\"result-60e0d7cd-febe-4024-82c8-843b6da7f1d2\">\n",
              "      Upload widget is only available when the cell has been executed in the\n",
              "      current browser session. Please rerun this cell to enable.\n",
              "      </output>\n",
              "      <script src=\"/nbextensions/google.colab/files.js\"></script> "
            ],
            "text/plain": [
              "<IPython.core.display.HTML object>"
            ]
          },
          "metadata": {}
        },
        {
          "output_type": "stream",
          "name": "stdout",
          "text": [
            "Saving class_grades_detailed_anonymous.csv to class_grades_detailed_anonymous.csv\n",
            "User uploaded file \"class_grades_detailed_anonymous.csv\" with length 6886 bytes\n"
          ]
        }
      ]
    },
    {
      "cell_type": "code",
      "source": [
        "filename = 'class_grades_detailed_anonymous.csv'\n",
        "data=pd.read_csv(filename,sep=',')\n",
        "print(data)"
      ],
      "metadata": {
        "colab": {
          "base_uri": "https://localhost:8080/"
        },
        "id": "WLgJ3IsiyQnE",
        "outputId": "e6fcc626-d87e-49d4-c0b4-85466608a151"
      },
      "execution_count": 16,
      "outputs": [
        {
          "output_type": "stream",
          "name": "stdout",
          "text": [
            "             ID  homework  midterm1  midterm2  final  clicker  finalgrade\n",
            "0    student100        90      62.5     35.00  50.00        5          71\n",
            "1    student101         3      40.0     41.67  41.67        0          26\n",
            "2    student102        95      57.5     42.50  51.67        0          69\n",
            "3    student103        93      57.5     42.50  65.00        0          70\n",
            "4    student104        32      37.5     45.00  45.00        0          38\n",
            "..          ...       ...       ...       ...    ...      ...         ...\n",
            "206  student306        99      90.0     97.50  98.33        5         102\n",
            "207  student307       100      97.5     97.50  90.00        5         102\n",
            "208  student308       100     100.0     97.50  93.33        5         103\n",
            "209  student309       100      97.5     97.50  98.33        5         104\n",
            "210  student310        97      97.5    100.00  96.67        5         103\n",
            "\n",
            "[211 rows x 7 columns]\n"
          ]
        }
      ]
    },
    {
      "cell_type": "markdown",
      "source": [
        "####STEP 2: Choose X (predictor, independent variable) and Y (dependent variable, predicted).  Then, make a scatter plot to see if these data may be well described by linear regression. **Is there potential for X to be used to predict Y?**"
      ],
      "metadata": {
        "id": "bcMfhdzfPX4i"
      }
    },
    {
      "cell_type": "code",
      "source": [
        "### Assign X and Y data\n",
        "### Here, we are using midterm1 grade (X) to predict the final exam grade (Y)\n",
        "xdata=data['midterm1'] ## predictor, independent variable\n",
        "ydata=data['final'] ## predicted by predictor, dependent variable; y=f(x)\n",
        "N=len(xdata)\n",
        "plt.scatter(xdata,ydata);\n",
        "plt.xlabel('X Data - midterm1 exam grade',size=14);\n",
        "plt.ylabel('Y Data - final exam grade',size=14);"
      ],
      "metadata": {
        "id": "00beHTvscsvW",
        "colab": {
          "base_uri": "https://localhost:8080/",
          "height": 283
        },
        "outputId": "8fdd09e2-8e10-4dac-bdac-82ed06ce215d"
      },
      "execution_count": 19,
      "outputs": [
        {
          "output_type": "display_data",
          "data": {
            "image/png": "[encoded data removed]",
            "text/plain": [
              "<Figure size 432x288 with 1 Axes>"
            ]
          },
          "metadata": {}
        }
      ]
    },
    {
      "cell_type": "markdown",
      "source": [
        "####STEP 3: Compute the linear regression and associated statistics"
      ],
      "metadata": {
        "id": "D7T_K-NzP2QR"
      }
    },
    {
      "cell_type": "code",
      "source": [
        "### Calculate the correlation statistics\n",
        "slope, intercept, r_value, p_value, std_err = stats.linregress(xdata,ydata)\n",
        "print('scipy.stats.linregress slope or regression coefficient: ',round(slope,2))\n",
        "print('scipy.stats.linregress y-intercept: ',round(intercept,2))\n",
        "print('scipy.stats.linregress r_value or correlation coefficient: ',round(r_value,2))\n"
      ],
      "metadata": {
        "id": "owW7a9sgSpQa",
        "colab": {
          "base_uri": "https://localhost:8080/"
        },
        "outputId": "8d43fcfb-bad8-4ecf-b97f-8316de73db0d"
      },
      "execution_count": 20,
      "outputs": [
        {
          "output_type": "stream",
          "name": "stdout",
          "text": [
            "scipy.stats.linregress slope or regression coefficient:  0.57\n",
            "scipy.stats.linregress y-intercept:  31.29\n",
            "scipy.stats.linregress r_value or correlation coefficient:  0.66\n"
          ]
        }
      ]
    },
    {
      "cell_type": "markdown",
      "source": [
        "#### STEP 4: Use hypothesis testing to evaluate if the true correlation between X and Y is significant.\n",
        "\n",
        "\n",
        "1.   **State the sigificance level:** alpha=0.05 (95% confidence)\n",
        "2.   **State the null hypothesis (H0):** The true correlation between X and Y is positive. \n",
        "     \n",
        "     In other words, a high midterm1 grade leads to a high final exam grade.\n",
        "3.   **State the statistic to be used, and the assumptions:** \n",
        "      \n",
        "      Use Fisher-Z because the null hypothesis is that the true correlation is positive.  We will use the t-statistic following Equations 46-50 in the Barnes Notes (Example 2.2).  The t-statistic converges to the z-statistic for large N.  The t-statistic requires an assumption of an underlying normal distribution. \n",
        "\n",
        "4.    **State the critical region:** Results will be consistent with the null hypothesis if the 95% confidence intervals on the true correlation are positive.\n",
        "\n",
        "5.    **Evaluate the statistic and state the conclusion (see code below)**\n"
      ],
      "metadata": {
        "id": "1VLMTHdsQNdc"
      }
    },
    {
      "cell_type": "code",
      "source": [
        "## 5. Evaluate the statistic and state the conclusion\n",
        "\n",
        "## Use Fisher-Z to calculate Z, sigma_Z\n",
        "Z=0.5*np.log((1+r_value)/(1-r_value))\n",
        "print('Z:',round(Z,2))\n",
        "sigma_Z=1/np.sqrt(N-3)\n",
        "print('sigma_Z:',round(sigma_Z,2))\n",
        "\n",
        "## Find 95% confidence intervals on the true correlation.\n",
        "print('Number of students:',N)\n",
        "tstat95=stats.t.ppf(0.975,N-3)  ## two-sided 95%\n",
        "min_Z_value=Z-tstat95*sigma_Z\n",
        "max_Z_value=Z+tstat95*sigma_Z\n",
        "min_r_value=np.tanh(min_Z_value)\n",
        "max_r_value=np.tanh(max_Z_value)\n",
        "\n",
        "print('r_value:',round(r_value,2))\n",
        "print('min_r_value:',round(min_r_value,2))\n",
        "print('max_r_value:',round(max_r_value,2))\n",
        "print('')\n",
        "if 0 < min_r_value < max_r_value:\n",
        "  print('CONCLUSION: Cannot reject null hypothesis:')\n",
        "  print('95% confidence bounds rule out correlation=0')\n",
        "  print('Results consistent with high midterm 1 grade leading to a high final exam grade.')\n",
        "else:\n",
        "  print('CONCLUSION: Reject the null hypothesis')\n",
        "  print('Results are not consistent high midterm 1 grade leading to a high final exam grade.')\n"
      ],
      "metadata": {
        "id": "tjxsaV-RRHrc",
        "colab": {
          "base_uri": "https://localhost:8080/"
        },
        "outputId": "7df0c93b-b078-4c08-ce24-166d315fadfe"
      },
      "execution_count": 35,
      "outputs": [
        {
          "output_type": "stream",
          "name": "stdout",
          "text": [
            "Z: 0.8\n",
            "sigma_Z: 0.07\n",
            "Number of students: 211\n",
            "r_value: 0.66\n",
            "min_r_value: 0.58\n",
            "max_r_value: 0.73\n",
            "\n",
            "CONCLUSION: Cannot reject null hypothesis:\n",
            "95% confidence bounds rule out correlation=0\n",
            "Results consistent with high midterm 1 grade leading to a high final exam grade.\n"
          ]
        }
      ]
    },
    {
      "cell_type": "code",
      "source": [
        ""
      ],
      "metadata": {
        "id": "W9PTV2ZASjVc"
      },
      "execution_count": 23,
      "outputs": []
    },
    {
      "cell_type": "code",
      "source": [
        ""
      ],
      "metadata": {
        "id": "xBK5oHd1Q-Ge"
      },
      "execution_count": null,
      "outputs": []
    }
  ]
}