{
  "cells": [
    {
      "cell_type": "markdown",
      "metadata": {
        "id": "eNFpvL8GgSj-"
      },
      "source": [
        "###**ATOC4500 Data Science Lab: Application Lab #3: Intro to Machine Learning with Meteorological Station Data**\n",
        "###last updated: March 8, 2022\n",
        "**>>>> NOTE: Please run this and other notebooks using a Chrome browser**\n",
        "\n",
        "LEARNING GOALS:\n",
        "1. Use k-means clustering as an example of unsupervised (grouping events into different categories) machine learning\n",
        "2. Become familiar with the limits and applicability of K-means clustering to detect the seasons in Colorado\n",
        "3. Assess sensitivity of K-means to standardization, changing the input data, and number of clusters."
      ]
    },
    {
      "cell_type": "markdown",
      "metadata": {
        "id": "YLVkxxfIgSkA"
      },
      "source": [
        "In this lab, we will use [K-means clustering](https://en.wikipedia.org/wiki/K-means_clustering) to classify weather data into different clusters. Why would we cluster weather observations?  We already know which observations are in which season by looking at the date. So... we could hypothesize each cluster might look like a season.  But we all know that in Colorado: *a day in February sometimes feels like summer and a day in September can feel like winter.*  We often have multiple seasons in a single week... So this could be quite fun to see how the algorithm decides how to cluster Colorado weather data and assign each time to a \"season\". :) <br>"
      ]
    },
    {
      "cell_type": "markdown",
      "source": [
        "**STEP 1: Import packages and functions we will use**"
      ],
      "metadata": {
        "id": "lHHS96q8OoWe"
      }
    },
    {
      "cell_type": "code",
      "execution_count": 1,
      "metadata": {
        "id": "eWFoGflLgSkB"
      },
      "outputs": [],
      "source": [
        "import pandas as pd\n",
        "import numpy as np\n",
        "import datetime\n",
        "#import datetime as dt\n",
        "from google.colab import files\n",
        "\n",
        "from scipy.cluster.vq import vq, kmeans, whiten\n",
        "import matplotlib.pyplot as plt"
      ]
    },
    {
      "cell_type": "markdown",
      "source": [
        "##Introducing your data... The Christman Dataset## \n",
        "i.e., 2016 weather observations from Christman Field, Fort Collins, Colorado.\n",
        "The data are in a comma-delimited file called al3_christman_2016.csv. The data were munged by Prof. Libby Barnes at Colorado State University."
      ],
      "metadata": {
        "id": "R55WmtMP8WLg"
      }
    },
    {
      "cell_type": "markdown",
      "metadata": {
        "id": "sLFzRkcsgSkB"
      },
      "source": [
        "**STEP 2: Read in the Data and Look At It, Add a variable in the dataframe for the season**"
      ]
    },
    {
      "cell_type": "code",
      "execution_count": 2,
      "metadata": {
        "colab": {
          "resources": {
            "http://localhost:8080/nbextensions/google.colab/files.js": {
              "data": "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",
              "ok": true,
              "headers": [
                [
                  "content-type",
                  "application/javascript"
                ]
              ],
              "status": 200,
              "status_text": ""
            }
          },
          "base_uri": "https://localhost:8080/",
          "height": 90
        },
        "id": "y3KIpxh3gSkC",
        "outputId": "18624c37-65b5-47df-c1f2-4aec39c98f7c"
      },
      "outputs": [
        {
          "output_type": "display_data",
          "data": {
            "text/plain": [
              "<IPython.core.display.HTML object>"
            ],
            "text/html": [
              "\n",
              "     <input type=\"file\" id=\"files-2ccdb78b-e702-417f-b420-a17a38c70b60\" name=\"files[]\" multiple disabled\n",
              "        style=\"border:none\" />\n",
              "     <output id=\"result-2ccdb78b-e702-417f-b420-a17a38c70b60\">\n",
              "      Upload widget is only available when the cell has been executed in the\n",
              "      current browser session. Please rerun this cell to enable.\n",
              "      </output>\n",
              "      <script src=\"/nbextensions/google.colab/files.js\"></script> "
            ]
          },
          "metadata": {}
        },
        {
          "output_type": "stream",
          "name": "stdout",
          "text": [
            "Saving al3_christman_2016.csv to al3_christman_2016.csv\n",
            "User uploaded file \"al3_christman_2016.csv\" with length 519276 bytes\n"
          ]
        }
      ],
      "source": [
        "### upload file al3_christman_2016.csv\n",
        "uploaded = files.upload()\n",
        "\n",
        "for fn in uploaded.keys():\n",
        "  print('User uploaded file \"{name}\" with length {length} bytes'.format(\n",
        "      name=fn, length=len(uploaded[fn])))#"
      ]
    },
    {
      "cell_type": "code",
      "source": [
        "df = pd.read_csv(\"al3_christman_2016.csv\")\n",
        "## transform the day column into a readable date. Can only run once successfully.\n",
        "df['day'] = [datetime.date.fromordinal(day+693594) for day in df['day']] \n",
        "#print(df['day'])\n",
        "## preview data (also through df.head() & df.tail())\n",
        "df"
      ],
      "metadata": {
        "colab": {
          "base_uri": "https://localhost:8080/",
          "height": 424
        },
        "id": "pIKDvNiIhAr1",
        "outputId": "116756d1-ec76-47ac-9263-0de366828f2e"
      },
      "execution_count": 3,
      "outputs": [
        {
          "output_type": "execute_result",
          "data": {
            "text/plain": [
              "             day      hour  temp_F    RH  dewtemp_F  wind_mph  wind_dir  \\\n",
              "0     2016-01-01  0.000000     7.0  72.2       -0.1       1.2       234   \n",
              "1     2016-01-01  0.041667     5.4  74.3       -1.0       3.4       299   \n",
              "2     2016-01-01  0.083333     6.4  73.8       -0.2       2.8       200   \n",
              "3     2016-01-01  0.125000     3.0  73.5       -3.6       2.9       309   \n",
              "4     2016-01-01  0.166667     3.7  76.9       -1.9       3.1       346   \n",
              "...          ...       ...     ...   ...        ...       ...       ...   \n",
              "8779  2016-12-31  0.791667    22.3  74.3       15.4       0.9       221   \n",
              "8780  2016-12-31  0.833333    20.3  80.4       15.3       0.6       279   \n",
              "8781  2016-12-31  0.875000    19.9  81.1       15.1       0.5       197   \n",
              "8782  2016-12-31  0.916667    17.8  82.8       13.5       2.0       353   \n",
              "8783  2016-12-31  0.958333    16.3  84.1       12.4       1.0       191   \n",
              "\n",
              "      windgust  windgust_dir  pres_mb  SOLIN_Wm2  Prec_inches  \n",
              "0          3.9           224   851.30        0.0          0.0  \n",
              "1          7.1           302   850.82        0.0          0.0  \n",
              "2          7.0           301   849.83        0.0          0.0  \n",
              "3          6.1           349   850.69        0.0          0.0  \n",
              "4          5.3           255   848.24        0.0          0.0  \n",
              "...        ...           ...      ...        ...          ...  \n",
              "8779       3.3           202   833.32        0.0          0.0  \n",
              "8780       2.9           279   833.45        0.1          0.0  \n",
              "8781       2.5           279   833.01        0.1          0.0  \n",
              "8782       4.8           352   832.78        0.1          0.0  \n",
              "8783       4.9           353   832.62        0.0          0.0  \n",
              "\n",
              "[8784 rows x 12 columns]"
            ],
            "text/html": [
              "\n",
              "  <div id=\"df-b1c944ae-9c3f-4ecf-bffb-e79d51c41ab1\">\n",
              "    <div class=\"colab-df-container\">\n",
              "      <div>\n",
              "<style scoped>\n",
              "    .dataframe tbody tr th:only-of-type {\n",
              "        vertical-align: middle;\n",
              "    }\n",
              "\n",
              "    .dataframe tbody tr th {\n",
              "        vertical-align: top;\n",
              "    }\n",
              "\n",
              "    .dataframe thead th {\n",
              "        text-align: right;\n",
              "    }\n",
              "</style>\n",
              "<table border=\"1\" class=\"dataframe\">\n",
              "  <thead>\n",
              "    <tr style=\"text-align: right;\">\n",
              "      <th></th>\n",
              "      <th>day</th>\n",
              "      <th>hour</th>\n",
              "      <th>temp_F</th>\n",
              "      <th>RH</th>\n",
              "      <th>dewtemp_F</th>\n",
              "      <th>wind_mph</th>\n",
              "      <th>wind_dir</th>\n",
              "      <th>windgust</th>\n",
              "      <th>windgust_dir</th>\n",
              "      <th>pres_mb</th>\n",
              "      <th>SOLIN_Wm2</th>\n",
              "      <th>Prec_inches</th>\n",
              "    </tr>\n",
              "  </thead>\n",
              "  <tbody>\n",
              "    <tr>\n",
              "      <th>0</th>\n",
              "      <td>2016-01-01</td>\n",
              "      <td>0.000000</td>\n",
              "      <td>7.0</td>\n",
              "      <td>72.2</td>\n",
              "      <td>-0.1</td>\n",
              "      <td>1.2</td>\n",
              "      <td>234</td>\n",
              "      <td>3.9</td>\n",
              "      <td>224</td>\n",
              "      <td>851.30</td>\n",
              "      <td>0.0</td>\n",
              "      <td>0.0</td>\n",
              "    </tr>\n",
              "    <tr>\n",
              "      <th>1</th>\n",
              "      <td>2016-01-01</td>\n",
              "      <td>0.041667</td>\n",
              "      <td>5.4</td>\n",
              "      <td>74.3</td>\n",
              "      <td>-1.0</td>\n",
              "      <td>3.4</td>\n",
              "      <td>299</td>\n",
              "      <td>7.1</td>\n",
              "      <td>302</td>\n",
              "      <td>850.82</td>\n",
              "      <td>0.0</td>\n",
              "      <td>0.0</td>\n",
              "    </tr>\n",
              "    <tr>\n",
              "      <th>2</th>\n",
              "      <td>2016-01-01</td>\n",
              "      <td>0.083333</td>\n",
              "      <td>6.4</td>\n",
              "      <td>73.8</td>\n",
              "      <td>-0.2</td>\n",
              "      <td>2.8</td>\n",
              "      <td>200</td>\n",
              "      <td>7.0</td>\n",
              "      <td>301</td>\n",
              "      <td>849.83</td>\n",
              "      <td>0.0</td>\n",
              "      <td>0.0</td>\n",
              "    </tr>\n",
              "    <tr>\n",
              "      <th>3</th>\n",
              "      <td>2016-01-01</td>\n",
              "      <td>0.125000</td>\n",
              "      <td>3.0</td>\n",
              "      <td>73.5</td>\n",
              "      <td>-3.6</td>\n",
              "      <td>2.9</td>\n",
              "      <td>309</td>\n",
              "      <td>6.1</td>\n",
              "      <td>349</td>\n",
              "      <td>850.69</td>\n",
              "      <td>0.0</td>\n",
              "      <td>0.0</td>\n",
              "    </tr>\n",
              "    <tr>\n",
              "      <th>4</th>\n",
              "      <td>2016-01-01</td>\n",
              "      <td>0.166667</td>\n",
              "      <td>3.7</td>\n",
              "      <td>76.9</td>\n",
              "      <td>-1.9</td>\n",
              "      <td>3.1</td>\n",
              "      <td>346</td>\n",
              "      <td>5.3</td>\n",
              "      <td>255</td>\n",
              "      <td>848.24</td>\n",
              "      <td>0.0</td>\n",
              "      <td>0.0</td>\n",
              "    </tr>\n",
              "    <tr>\n",
              "      <th>...</th>\n",
              "      <td>...</td>\n",
              "      <td>...</td>\n",
              "      <td>...</td>\n",
              "      <td>...</td>\n",
              "      <td>...</td>\n",
              "      <td>...</td>\n",
              "      <td>...</td>\n",
              "      <td>...</td>\n",
              "      <td>...</td>\n",
              "      <td>...</td>\n",
              "      <td>...</td>\n",
              "      <td>...</td>\n",
              "    </tr>\n",
              "    <tr>\n",
              "      <th>8779</th>\n",
              "      <td>2016-12-31</td>\n",
              "      <td>0.791667</td>\n",
              "      <td>22.3</td>\n",
              "      <td>74.3</td>\n",
              "      <td>15.4</td>\n",
              "      <td>0.9</td>\n",
              "      <td>221</td>\n",
              "      <td>3.3</td>\n",
              "      <td>202</td>\n",
              "      <td>833.32</td>\n",
              "      <td>0.0</td>\n",
              "      <td>0.0</td>\n",
              "    </tr>\n",
              "    <tr>\n",
              "      <th>8780</th>\n",
              "      <td>2016-12-31</td>\n",
              "      <td>0.833333</td>\n",
              "      <td>20.3</td>\n",
              "      <td>80.4</td>\n",
              "      <td>15.3</td>\n",
              "      <td>0.6</td>\n",
              "      <td>279</td>\n",
              "      <td>2.9</td>\n",
              "      <td>279</td>\n",
              "      <td>833.45</td>\n",
              "      <td>0.1</td>\n",
              "      <td>0.0</td>\n",
              "    </tr>\n",
              "    <tr>\n",
              "      <th>8781</th>\n",
              "      <td>2016-12-31</td>\n",
              "      <td>0.875000</td>\n",
              "      <td>19.9</td>\n",
              "      <td>81.1</td>\n",
              "      <td>15.1</td>\n",
              "      <td>0.5</td>\n",
              "      <td>197</td>\n",
              "      <td>2.5</td>\n",
              "      <td>279</td>\n",
              "      <td>833.01</td>\n",
              "      <td>0.1</td>\n",
              "      <td>0.0</td>\n",
              "    </tr>\n",
              "    <tr>\n",
              "      <th>8782</th>\n",
              "      <td>2016-12-31</td>\n",
              "      <td>0.916667</td>\n",
              "      <td>17.8</td>\n",
              "      <td>82.8</td>\n",
              "      <td>13.5</td>\n",
              "      <td>2.0</td>\n",
              "      <td>353</td>\n",
              "      <td>4.8</td>\n",
              "      <td>352</td>\n",
              "      <td>832.78</td>\n",
              "      <td>0.1</td>\n",
              "      <td>0.0</td>\n",
              "    </tr>\n",
              "    <tr>\n",
              "      <th>8783</th>\n",
              "      <td>2016-12-31</td>\n",
              "      <td>0.958333</td>\n",
              "      <td>16.3</td>\n",
              "      <td>84.1</td>\n",
              "      <td>12.4</td>\n",
              "      <td>1.0</td>\n",
              "      <td>191</td>\n",
              "      <td>4.9</td>\n",
              "      <td>353</td>\n",
              "      <td>832.62</td>\n",
              "      <td>0.0</td>\n",
              "      <td>0.0</td>\n",
              "    </tr>\n",
              "  </tbody>\n",
              "</table>\n",
              "<p>8784 rows × 12 columns</p>\n",
              "</div>\n",
              "      <button class=\"colab-df-convert\" onclick=\"convertToInteractive('df-b1c944ae-9c3f-4ecf-bffb-e79d51c41ab1')\"\n",
              "              title=\"Convert this dataframe to an interactive table.\"\n",
              "              style=\"display:none;\">\n",
              "        \n",
              "  <svg xmlns=\"http://www.w3.org/2000/svg\" height=\"24px\"viewBox=\"0 0 24 24\"\n",
              "       width=\"24px\">\n",
              "    <path d=\"M0 0h24v24H0V0z\" fill=\"none\"/>\n",
              "    <path d=\"M18.56 5.44l.94 2.06.94-2.06 2.06-.94-2.06-.94-.94-2.06-.94 2.06-2.06.94zm-11 1L8.5 8.5l.94-2.06 2.06-.94-2.06-.94L8.5 2.5l-.94 2.06-2.06.94zm10 10l.94 2.06.94-2.06 2.06-.94-2.06-.94-.94-2.06-.94 2.06-2.06.94z\"/><path d=\"M17.41 7.96l-1.37-1.37c-.4-.4-.92-.59-1.43-.59-.52 0-1.04.2-1.43.59L10.3 9.45l-7.72 7.72c-.78.78-.78 2.05 0 2.83L4 21.41c.39.39.9.59 1.41.59.51 0 1.02-.2 1.41-.59l7.78-7.78 2.81-2.81c.8-.78.8-2.07 0-2.86zM5.41 20L4 18.59l7.72-7.72 1.47 1.35L5.41 20z\"/>\n",
              "  </svg>\n",
              "      </button>\n",
              "      \n",
              "  <style>\n",
              "    .colab-df-container {\n",
              "      display:flex;\n",
              "      flex-wrap:wrap;\n",
              "      gap: 12px;\n",
              "    }\n",
              "\n",
              "    .colab-df-convert {\n",
              "      background-color: #E8F0FE;\n",
              "      border: none;\n",
              "      border-radius: 50%;\n",
              "      cursor: pointer;\n",
              "      display: none;\n",
              "      fill: #1967D2;\n",
              "      height: 32px;\n",
              "      padding: 0 0 0 0;\n",
              "      width: 32px;\n",
              "    }\n",
              "\n",
              "    .colab-df-convert:hover {\n",
              "      background-color: #E2EBFA;\n",
              "      box-shadow: 0px 1px 2px rgba(60, 64, 67, 0.3), 0px 1px 3px 1px rgba(60, 64, 67, 0.15);\n",
              "      fill: #174EA6;\n",
              "    }\n",
              "\n",
              "    [theme=dark] .colab-df-convert {\n",
              "      background-color: #3B4455;\n",
              "      fill: #D2E3FC;\n",
              "    }\n",
              "\n",
              "    [theme=dark] .colab-df-convert:hover {\n",
              "      background-color: #434B5C;\n",
              "      box-shadow: 0px 1px 3px 1px rgba(0, 0, 0, 0.15);\n",
              "      filter: drop-shadow(0px 1px 2px rgba(0, 0, 0, 0.3));\n",
              "      fill: #FFFFFF;\n",
              "    }\n",
              "  </style>\n",
              "\n",
              "      <script>\n",
              "        const buttonEl =\n",
              "          document.querySelector('#df-b1c944ae-9c3f-4ecf-bffb-e79d51c41ab1 button.colab-df-convert');\n",
              "        buttonEl.style.display =\n",
              "          google.colab.kernel.accessAllowed ? 'block' : 'none';\n",
              "\n",
              "        async function convertToInteractive(key) {\n",
              "          const element = document.querySelector('#df-b1c944ae-9c3f-4ecf-bffb-e79d51c41ab1');\n",
              "          const dataTable =\n",
              "            await google.colab.kernel.invokeFunction('convertToInteractive',\n",
              "                                                     [key], {});\n",
              "          if (!dataTable) return;\n",
              "\n",
              "          const docLinkHtml = 'Like what you see? Visit the ' +\n",
              "            '<a target=\"_blank\" href=https://colab.research.google.com/notebooks/data_table.ipynb>data table notebook</a>'\n",
              "            + ' to learn more about interactive tables.';\n",
              "          element.innerHTML = '';\n",
              "          dataTable['output_type'] = 'display_data';\n",
              "          await google.colab.output.renderOutput(dataTable, element);\n",
              "          const docLink = document.createElement('div');\n",
              "          docLink.innerHTML = docLinkHtml;\n",
              "          element.appendChild(docLink);\n",
              "        }\n",
              "      </script>\n",
              "    </div>\n",
              "  </div>\n",
              "  "
            ]
          },
          "metadata": {},
          "execution_count": 3
        }
      ]
    },
    {
      "cell_type": "code",
      "execution_count": 4,
      "metadata": {
        "colab": {
          "base_uri": "https://localhost:8080/"
        },
        "id": "ZZXa6xUvgSkD",
        "outputId": "f673b902-fcc0-4fa5-8203-439f17b7d5f7"
      },
      "outputs": [
        {
          "output_type": "stream",
          "name": "stdout",
          "text": [
            "How many days are in this dataset? 366\n"
          ]
        }
      ],
      "source": [
        "print(f'How many days are in this dataset? {df.day.nunique()}')"
      ]
    },
    {
      "cell_type": "code",
      "source": [
        "## add a new variable called \"season\" to the pandas dataframe called df\n",
        "## this variable contains the season defined traditionally based on the month: \n",
        "## DJF=winter, MAM=spring, JJA=summer, SON=fall\n",
        "\n",
        "#1) use a dictionary to define seasons from months\n",
        "#define the seasons as DJF=winter=1, MAM=spring=2, JJA=summer=3, SON=fall=4\n",
        "\n",
        "seasons = {(1, 12, 2): 1, (3, 4, 5): 2, (6, 7, 8): 3, (9, 10, 11): 4}\n",
        "## define a function to assign seasons to months using the dictionary\n",
        "def season(ser):\n",
        "    for k in seasons.keys():\n",
        "        if ser in k:\n",
        "            return seasons[k]\n",
        "\n",
        "## apply the function season to one time in my dataset as a sanity check\n",
        "#print(df['day'][5000].month)\n",
        "#print(season(df['day'][5000].month))\n",
        "\n",
        "## apply it to all times in my dataset - check\n",
        "#for month in pd.DatetimeIndex(df['day']).month[-5000:-4890]:\n",
        "#  print(season(month))\n",
        "\n",
        "# 2) apply the function season to all times in my dataset\n",
        "df['season']=[season(month) for month in pd.DatetimeIndex(df['day']).month]\n",
        "\n",
        "#check random value values\n",
        "#df['season'][5000]\n",
        "\n",
        "## check the data frame to see if there is a new variable called \"season\"\n",
        "df"
      ],
      "metadata": {
        "colab": {
          "base_uri": "https://localhost:8080/",
          "height": 424
        },
        "id": "kpy4OODafjmF",
        "outputId": "fd3bfe4b-137f-49ca-cf10-4b33cf9d67fb"
      },
      "execution_count": 5,
      "outputs": [
        {
          "output_type": "execute_result",
          "data": {
            "text/plain": [
              "             day      hour  temp_F    RH  dewtemp_F  wind_mph  wind_dir  \\\n",
              "0     2016-01-01  0.000000     7.0  72.2       -0.1       1.2       234   \n",
              "1     2016-01-01  0.041667     5.4  74.3       -1.0       3.4       299   \n",
              "2     2016-01-01  0.083333     6.4  73.8       -0.2       2.8       200   \n",
              "3     2016-01-01  0.125000     3.0  73.5       -3.6       2.9       309   \n",
              "4     2016-01-01  0.166667     3.7  76.9       -1.9       3.1       346   \n",
              "...          ...       ...     ...   ...        ...       ...       ...   \n",
              "8779  2016-12-31  0.791667    22.3  74.3       15.4       0.9       221   \n",
              "8780  2016-12-31  0.833333    20.3  80.4       15.3       0.6       279   \n",
              "8781  2016-12-31  0.875000    19.9  81.1       15.1       0.5       197   \n",
              "8782  2016-12-31  0.916667    17.8  82.8       13.5       2.0       353   \n",
              "8783  2016-12-31  0.958333    16.3  84.1       12.4       1.0       191   \n",
              "\n",
              "      windgust  windgust_dir  pres_mb  SOLIN_Wm2  Prec_inches  season  \n",
              "0          3.9           224   851.30        0.0          0.0       1  \n",
              "1          7.1           302   850.82        0.0          0.0       1  \n",
              "2          7.0           301   849.83        0.0          0.0       1  \n",
              "3          6.1           349   850.69        0.0          0.0       1  \n",
              "4          5.3           255   848.24        0.0          0.0       1  \n",
              "...        ...           ...      ...        ...          ...     ...  \n",
              "8779       3.3           202   833.32        0.0          0.0       1  \n",
              "8780       2.9           279   833.45        0.1          0.0       1  \n",
              "8781       2.5           279   833.01        0.1          0.0       1  \n",
              "8782       4.8           352   832.78        0.1          0.0       1  \n",
              "8783       4.9           353   832.62        0.0          0.0       1  \n",
              "\n",
              "[8784 rows x 13 columns]"
            ],
            "text/html": [
              "\n",
              "  <div id=\"df-b07947f2-3a18-4765-9086-12cbcc7affdf\">\n",
              "    <div class=\"colab-df-container\">\n",
              "      <div>\n",
              "<style scoped>\n",
              "    .dataframe tbody tr th:only-of-type {\n",
              "        vertical-align: middle;\n",
              "    }\n",
              "\n",
              "    .dataframe tbody tr th {\n",
              "        vertical-align: top;\n",
              "    }\n",
              "\n",
              "    .dataframe thead th {\n",
              "        text-align: right;\n",
              "    }\n",
              "</style>\n",
              "<table border=\"1\" class=\"dataframe\">\n",
              "  <thead>\n",
              "    <tr style=\"text-align: right;\">\n",
              "      <th></th>\n",
              "      <th>day</th>\n",
              "      <th>hour</th>\n",
              "      <th>temp_F</th>\n",
              "      <th>RH</th>\n",
              "      <th>dewtemp_F</th>\n",
              "      <th>wind_mph</th>\n",
              "      <th>wind_dir</th>\n",
              "      <th>windgust</th>\n",
              "      <th>windgust_dir</th>\n",
              "      <th>pres_mb</th>\n",
              "      <th>SOLIN_Wm2</th>\n",
              "      <th>Prec_inches</th>\n",
              "      <th>season</th>\n",
              "    </tr>\n",
              "  </thead>\n",
              "  <tbody>\n",
              "    <tr>\n",
              "      <th>0</th>\n",
              "      <td>2016-01-01</td>\n",
              "      <td>0.000000</td>\n",
              "      <td>7.0</td>\n",
              "      <td>72.2</td>\n",
              "      <td>-0.1</td>\n",
              "      <td>1.2</td>\n",
              "      <td>234</td>\n",
              "      <td>3.9</td>\n",
              "      <td>224</td>\n",
              "      <td>851.30</td>\n",
              "      <td>0.0</td>\n",
              "      <td>0.0</td>\n",
              "      <td>1</td>\n",
              "    </tr>\n",
              "    <tr>\n",
              "      <th>1</th>\n",
              "      <td>2016-01-01</td>\n",
              "      <td>0.041667</td>\n",
              "      <td>5.4</td>\n",
              "      <td>74.3</td>\n",
              "      <td>-1.0</td>\n",
              "      <td>3.4</td>\n",
              "      <td>299</td>\n",
              "      <td>7.1</td>\n",
              "      <td>302</td>\n",
              "      <td>850.82</td>\n",
              "      <td>0.0</td>\n",
              "      <td>0.0</td>\n",
              "      <td>1</td>\n",
              "    </tr>\n",
              "    <tr>\n",
              "      <th>2</th>\n",
              "      <td>2016-01-01</td>\n",
              "      <td>0.083333</td>\n",
              "      <td>6.4</td>\n",
              "      <td>73.8</td>\n",
              "      <td>-0.2</td>\n",
              "      <td>2.8</td>\n",
              "      <td>200</td>\n",
              "      <td>7.0</td>\n",
              "      <td>301</td>\n",
              "      <td>849.83</td>\n",
              "      <td>0.0</td>\n",
              "      <td>0.0</td>\n",
              "      <td>1</td>\n",
              "    </tr>\n",
              "    <tr>\n",
              "      <th>3</th>\n",
              "      <td>2016-01-01</td>\n",
              "      <td>0.125000</td>\n",
              "      <td>3.0</td>\n",
              "      <td>73.5</td>\n",
              "      <td>-3.6</td>\n",
              "      <td>2.9</td>\n",
              "      <td>309</td>\n",
              "      <td>6.1</td>\n",
              "      <td>349</td>\n",
              "      <td>850.69</td>\n",
              "      <td>0.0</td>\n",
              "      <td>0.0</td>\n",
              "      <td>1</td>\n",
              "    </tr>\n",
              "    <tr>\n",
              "      <th>4</th>\n",
              "      <td>2016-01-01</td>\n",
              "      <td>0.166667</td>\n",
              "      <td>3.7</td>\n",
              "      <td>76.9</td>\n",
              "      <td>-1.9</td>\n",
              "      <td>3.1</td>\n",
              "      <td>346</td>\n",
              "      <td>5.3</td>\n",
              "      <td>255</td>\n",
              "      <td>848.24</td>\n",
              "      <td>0.0</td>\n",
              "      <td>0.0</td>\n",
              "      <td>1</td>\n",
              "    </tr>\n",
              "    <tr>\n",
              "      <th>...</th>\n",
              "      <td>...</td>\n",
              "      <td>...</td>\n",
              "      <td>...</td>\n",
              "      <td>...</td>\n",
              "      <td>...</td>\n",
              "      <td>...</td>\n",
              "      <td>...</td>\n",
              "      <td>...</td>\n",
              "      <td>...</td>\n",
              "      <td>...</td>\n",
              "      <td>...</td>\n",
              "      <td>...</td>\n",
              "      <td>...</td>\n",
              "    </tr>\n",
              "    <tr>\n",
              "      <th>8779</th>\n",
              "      <td>2016-12-31</td>\n",
              "      <td>0.791667</td>\n",
              "      <td>22.3</td>\n",
              "      <td>74.3</td>\n",
              "      <td>15.4</td>\n",
              "      <td>0.9</td>\n",
              "      <td>221</td>\n",
              "      <td>3.3</td>\n",
              "      <td>202</td>\n",
              "      <td>833.32</td>\n",
              "      <td>0.0</td>\n",
              "      <td>0.0</td>\n",
              "      <td>1</td>\n",
              "    </tr>\n",
              "    <tr>\n",
              "      <th>8780</th>\n",
              "      <td>2016-12-31</td>\n",
              "      <td>0.833333</td>\n",
              "      <td>20.3</td>\n",
              "      <td>80.4</td>\n",
              "      <td>15.3</td>\n",
              "      <td>0.6</td>\n",
              "      <td>279</td>\n",
              "      <td>2.9</td>\n",
              "      <td>279</td>\n",
              "      <td>833.45</td>\n",
              "      <td>0.1</td>\n",
              "      <td>0.0</td>\n",
              "      <td>1</td>\n",
              "    </tr>\n",
              "    <tr>\n",
              "      <th>8781</th>\n",
              "      <td>2016-12-31</td>\n",
              "      <td>0.875000</td>\n",
              "      <td>19.9</td>\n",
              "      <td>81.1</td>\n",
              "      <td>15.1</td>\n",
              "      <td>0.5</td>\n",
              "      <td>197</td>\n",
              "      <td>2.5</td>\n",
              "      <td>279</td>\n",
              "      <td>833.01</td>\n",
              "      <td>0.1</td>\n",
              "      <td>0.0</td>\n",
              "      <td>1</td>\n",
              "    </tr>\n",
              "    <tr>\n",
              "      <th>8782</th>\n",
              "      <td>2016-12-31</td>\n",
              "      <td>0.916667</td>\n",
              "      <td>17.8</td>\n",
              "      <td>82.8</td>\n",
              "      <td>13.5</td>\n",
              "      <td>2.0</td>\n",
              "      <td>353</td>\n",
              "      <td>4.8</td>\n",
              "      <td>352</td>\n",
              "      <td>832.78</td>\n",
              "      <td>0.1</td>\n",
              "      <td>0.0</td>\n",
              "      <td>1</td>\n",
              "    </tr>\n",
              "    <tr>\n",
              "      <th>8783</th>\n",
              "      <td>2016-12-31</td>\n",
              "      <td>0.958333</td>\n",
              "      <td>16.3</td>\n",
              "      <td>84.1</td>\n",
              "      <td>12.4</td>\n",
              "      <td>1.0</td>\n",
              "      <td>191</td>\n",
              "      <td>4.9</td>\n",
              "      <td>353</td>\n",
              "      <td>832.62</td>\n",
              "      <td>0.0</td>\n",
              "      <td>0.0</td>\n",
              "      <td>1</td>\n",
              "    </tr>\n",
              "  </tbody>\n",
              "</table>\n",
              "<p>8784 rows × 13 columns</p>\n",
              "</div>\n",
              "      <button class=\"colab-df-convert\" onclick=\"convertToInteractive('df-b07947f2-3a18-4765-9086-12cbcc7affdf')\"\n",
              "              title=\"Convert this dataframe to an interactive table.\"\n",
              "              style=\"display:none;\">\n",
              "        \n",
              "  <svg xmlns=\"http://www.w3.org/2000/svg\" height=\"24px\"viewBox=\"0 0 24 24\"\n",
              "       width=\"24px\">\n",
              "    <path d=\"M0 0h24v24H0V0z\" fill=\"none\"/>\n",
              "    <path d=\"M18.56 5.44l.94 2.06.94-2.06 2.06-.94-2.06-.94-.94-2.06-.94 2.06-2.06.94zm-11 1L8.5 8.5l.94-2.06 2.06-.94-2.06-.94L8.5 2.5l-.94 2.06-2.06.94zm10 10l.94 2.06.94-2.06 2.06-.94-2.06-.94-.94-2.06-.94 2.06-2.06.94z\"/><path d=\"M17.41 7.96l-1.37-1.37c-.4-.4-.92-.59-1.43-.59-.52 0-1.04.2-1.43.59L10.3 9.45l-7.72 7.72c-.78.78-.78 2.05 0 2.83L4 21.41c.39.39.9.59 1.41.59.51 0 1.02-.2 1.41-.59l7.78-7.78 2.81-2.81c.8-.78.8-2.07 0-2.86zM5.41 20L4 18.59l7.72-7.72 1.47 1.35L5.41 20z\"/>\n",
              "  </svg>\n",
              "      </button>\n",
              "      \n",
              "  <style>\n",
              "    .colab-df-container {\n",
              "      display:flex;\n",
              "      flex-wrap:wrap;\n",
              "      gap: 12px;\n",
              "    }\n",
              "\n",
              "    .colab-df-convert {\n",
              "      background-color: #E8F0FE;\n",
              "      border: none;\n",
              "      border-radius: 50%;\n",
              "      cursor: pointer;\n",
              "      display: none;\n",
              "      fill: #1967D2;\n",
              "      height: 32px;\n",
              "      padding: 0 0 0 0;\n",
              "      width: 32px;\n",
              "    }\n",
              "\n",
              "    .colab-df-convert:hover {\n",
              "      background-color: #E2EBFA;\n",
              "      box-shadow: 0px 1px 2px rgba(60, 64, 67, 0.3), 0px 1px 3px 1px rgba(60, 64, 67, 0.15);\n",
              "      fill: #174EA6;\n",
              "    }\n",
              "\n",
              "    [theme=dark] .colab-df-convert {\n",
              "      background-color: #3B4455;\n",
              "      fill: #D2E3FC;\n",
              "    }\n",
              "\n",
              "    [theme=dark] .colab-df-convert:hover {\n",
              "      background-color: #434B5C;\n",
              "      box-shadow: 0px 1px 3px 1px rgba(0, 0, 0, 0.15);\n",
              "      filter: drop-shadow(0px 1px 2px rgba(0, 0, 0, 0.3));\n",
              "      fill: #FFFFFF;\n",
              "    }\n",
              "  </style>\n",
              "\n",
              "      <script>\n",
              "        const buttonEl =\n",
              "          document.querySelector('#df-b07947f2-3a18-4765-9086-12cbcc7affdf button.colab-df-convert');\n",
              "        buttonEl.style.display =\n",
              "          google.colab.kernel.accessAllowed ? 'block' : 'none';\n",
              "\n",
              "        async function convertToInteractive(key) {\n",
              "          const element = document.querySelector('#df-b07947f2-3a18-4765-9086-12cbcc7affdf');\n",
              "          const dataTable =\n",
              "            await google.colab.kernel.invokeFunction('convertToInteractive',\n",
              "                                                     [key], {});\n",
              "          if (!dataTable) return;\n",
              "\n",
              "          const docLinkHtml = 'Like what you see? Visit the ' +\n",
              "            '<a target=\"_blank\" href=https://colab.research.google.com/notebooks/data_table.ipynb>data table notebook</a>'\n",
              "            + ' to learn more about interactive tables.';\n",
              "          element.innerHTML = '';\n",
              "          dataTable['output_type'] = 'display_data';\n",
              "          await google.colab.output.renderOutput(dataTable, element);\n",
              "          const docLink = document.createElement('div');\n",
              "          docLink.innerHTML = docLinkHtml;\n",
              "          element.appendChild(docLink);\n",
              "        }\n",
              "      </script>\n",
              "    </div>\n",
              "  </div>\n",
              "  "
            ]
          },
          "metadata": {},
          "execution_count": 5
        }
      ]
    },
    {
      "cell_type": "markdown",
      "source": [
        "**STEP 3: Select Data To Use, Convert data into a Numpy Array, Look at data again!**"
      ],
      "metadata": {
        "id": "sTWsznQBP6ud"
      }
    },
    {
      "cell_type": "code",
      "execution_count": 6,
      "metadata": {
        "id": "GDNttXzZgSkE"
      },
      "outputs": [],
      "source": [
        "#### select the time\n",
        "\n",
        "##Only select noons, or when day_fraction is equal to 0.5.\n",
        "noondf = df[df.hour==0.5] ## noon\n",
        "\n",
        "### tinker later (code that you may want to \"borrow\" later in this notebook)\n",
        "##noondf = df[hour==0.25] ## what time is this??\n",
        "#noondf = df # try selecting all data instead of just noon data"
      ]
    },
    {
      "cell_type": "code",
      "source": [
        "## Select variables of interest. Aside variables are called \"features\" by some in the ML world.\n",
        "\n",
        "included_cols = ['temp_F','RH','dewtemp_F','wind_mph','wind_dir',\n",
        "                 'windgust','windgust_dir','pres_mb','SOLIN_Wm2','Prec_inches'] # original input\n",
        "\n",
        "### tinker later (code that you may want to \"borrow\" later in the lab)\n",
        "#included_cols = ['temp_F','RH','dewtemp_F','wind_mph','windgust','pres_mb','Prec_inches'] \n",
        "#included_cols = ['temp_F','wind_mph'] # try only using temp_F and wind_mph\n",
        "#included_cols = ['RH','wind_mph'] # try only using RH and wind_mph\n",
        "\n",
        "## convert to a numpy array for model input and leave out the time dimensions day & hour, and wind directions.\n",
        "data = noondf.loc[:, noondf.columns.isin(list(included_cols))].to_numpy()\n",
        "\n",
        "## check the shape of your data -- should be (366,10) (days, variable)\n",
        "print(f'Your data should be 366 observations over 10 variables: {np.shape(data)}')\n",
        "print(f'Your data includes the following variables: {included_cols}')\n",
        "print(f'# of variables: {len(included_cols)}')"
      ],
      "metadata": {
        "colab": {
          "base_uri": "https://localhost:8080/"
        },
        "id": "XWf7APBtS8Vk",
        "outputId": "6c29a354-3f7a-405f-9fca-3e27c85cfab3"
      },
      "execution_count": 9,
      "outputs": [
        {
          "output_type": "stream",
          "name": "stdout",
          "text": [
            "Your data should be 366 observations over 10 variables: (366, 10)\n",
            "Your data includes the following variables: ['temp_F', 'RH', 'dewtemp_F', 'wind_mph', 'wind_dir', 'windgust', 'windgust_dir', 'pres_mb', 'SOLIN_Wm2', 'Prec_inches']\n",
            "# of variables: 10\n"
          ]
        }
      ]
    },
    {
      "cell_type": "code",
      "source": [
        "### option to check out quick plots of your data...\n",
        "### say yes first time through - double check your input, ALWAYS.\n",
        "quickplot = 'no'\n",
        "if quickplot == 'yes':\n",
        "  ## Quick plots of your data\n",
        "  for i in np.arange(0,np.shape(data)[1]):\n",
        "    plt.plot(data[:,i]);\n",
        "    plt.title(included_cols[i])\n",
        "    plt.show()"
      ],
      "metadata": {
        "id": "Ay1SOyCEaCu6"
      },
      "execution_count": 10,
      "outputs": []
    },
    {
      "cell_type": "markdown",
      "metadata": {
        "id": "2PI_p3pdgSkF"
      },
      "source": [
        "**STEP 4: Rescale your data to have unit variance, Look at your data again!**. *Why do you need to rescale? Because clustering among features depends on distance, we need to scale all of our features so that all features have equal variance. We don't want the clustering to be dominated by the feature with the largest variance...*"
      ]
    },
    {
      "cell_type": "code",
      "execution_count": 11,
      "metadata": {
        "colab": {
          "base_uri": "https://localhost:8080/"
        },
        "id": "5U9T50LHgSkF",
        "outputId": "b81d69a3-519a-4532-d6ec-d5ed5d777746"
      },
      "outputs": [
        {
          "output_type": "stream",
          "name": "stdout",
          "text": [
            "LOOK AT YOUR DATA: shape should be (days, variable), more specifically (366,10): (366, 10)\n",
            "mean of each variable\n",
            "[3.08126841e+00 2.07186702e+00 1.94726665e+00 1.54064165e+00\n",
            " 1.80370097e+00 1.82644739e+00 1.76102996e+00 1.40370093e+02\n",
            " 2.31275140e+00 1.09089270e-01]\n",
            "standard deviation of each variable\n",
            "[1. 1. 1. 1. 1. 1. 1. 1. 1. 1.]\n"
          ]
        }
      ],
      "source": [
        "## https://docs.scipy.org/doc/scipy/reference/generated/scipy.cluster.vq.whiten.html\n",
        "#\"Before running k-means, it is beneficial to rescale each feature dimension of the observation \n",
        "#set by its standard deviation (i.e. “whiten” it - as in “white noise” where each frequency has equal power). \n",
        "#Each feature is divided by its standard deviation across all observations to give it unit variance.\"\n",
        "scaled_data = whiten(data) # sci-kit learn's function to standardize data in the clustering toolbox\n",
        "#scaled_data = data.copy() # uncomment to NOT whiten, but still enable this notebook to run without modifications\n",
        "\n",
        "## Check that you end up with the same shape as the original data...\n",
        "print(f'LOOK AT YOUR DATA: shape should be (days, variable), more specifically (366,10): {np.shape(scaled_data)}')\n",
        "\n",
        "print('mean of each variable')\n",
        "print(np.mean(scaled_data,axis=0))\n",
        "print('standard deviation of each variable')\n",
        "print(np.std(scaled_data,axis=0))"
      ]
    },
    {
      "cell_type": "code",
      "execution_count": 12,
      "metadata": {
        "colab": {
          "base_uri": "https://localhost:8080/",
          "height": 265
        },
        "id": "a9Ik2BeugSkE",
        "outputId": "623956c2-a11c-431d-9e15-dbf4e23eda57"
      },
      "outputs": [
        {
          "output_type": "display_data",
          "data": {
            "text/plain": [
              "<Figure size 432x288 with 1 Axes>"
            ],
            "image/png": "[encoded data removed]"
          },
          "metadata": {
            "needs_background": "light"
          }
        }
      ],
      "source": [
        "## option to check out quick plots of your data... always take this option.\n",
        "## note: we did not remove the mean...\n",
        "quickplot = 'yes'\n",
        "if quickplot == 'yes':\n",
        "  ## Quick plots of your data\n",
        "  for i in np.arange(0,np.shape(scaled_data)[1]):\n",
        "    plt.plot(scaled_data[:,i],label=included_cols[i]);\n",
        "    ## check what happens when you uncomment the two lines below\n",
        "    #plt.title(included_cols[i])\n",
        "    #plt.show()\n",
        "  plt.legend()"
      ]
    },
    {
      "cell_type": "markdown",
      "metadata": {
        "id": "KQKxkO9ygSkD"
      },
      "source": [
        "**STEP 5: Use K-means clustering to look for patterns in the data**"
      ]
    },
    {
      "cell_type": "code",
      "execution_count": 14,
      "metadata": {
        "id": "6fizfxrMgSkF"
      },
      "outputs": [],
      "source": [
        "## select the number of clusters (i.e., here the number of seasons you want to try to identify using the weather data)\n",
        "NO_CLUSTERS = 4 # default is 4 for testing the hypothesis the clusters will separate into winter, fall, spring, summer\n",
        "\n",
        "## do the clustering, return centroids (i.e., Coordinates of cluster centers.)\n",
        "## https://scikit-learn.org/stable/modules/generated/sklearn.cluster.KMeans.html\n",
        "## https://docs.scipy.org/doc/scipy/reference/generated/scipy.cluster.vq.kmeans.html\n",
        "centroids, _  = kmeans(scaled_data,NO_CLUSTERS,iter=20)"
      ]
    },
    {
      "cell_type": "markdown",
      "metadata": {
        "id": "89eyKerKgSkG"
      },
      "source": [
        "**STEP 6: Visualize your results**. What is the cluster assigned to each time? "
      ]
    },
    {
      "cell_type": "code",
      "source": [
        "## find an index (idx) that is the label for each value in your dataset (i.e, each day at noon in 2016)\n",
        "## https://docs.scipy.org/doc/scipy/reference/generated/scipy.cluster.vq.vq.html\n",
        "idx, _ = vq(scaled_data,centroids) # vq returns cluster idx for each observation\n",
        "\n",
        "## add 1 so that idx is also 1-based like df['season']\n",
        "idx=idx+1\n",
        "\n",
        "print('Print the cluster idx for each day of the year:') \n",
        "print(idx) # prints K-mean's season label for each day in the year"
      ],
      "metadata": {
        "colab": {
          "base_uri": "https://localhost:8080/"
        },
        "id": "c5vHhXb1bINW",
        "outputId": "4a6aab5e-c2b7-4d86-8aec-f85330c49ab2"
      },
      "execution_count": 15,
      "outputs": [
        {
          "output_type": "stream",
          "name": "stdout",
          "text": [
            "Print the cluster idx for each day of the year:\n",
            "[3 2 2 2 2 3 3 3 3 3 3 3 3 4 3 3 3 3 3 3 4 2 2 3 4 2 2 2 4 3 3 3 3 4 2 2 3\n",
            " 3 3 3 4 2 2 3 4 4 2 2 4 2 2 2 4 4 2 2 2 2 2 4 2 4 2 2 2 2 4 2 2 2 2 2 4 4\n",
            " 4 4 3 3 4 2 4 4 4 2 2 3 2 2 2 4 4 4 2 2 1 4 2 2 2 1 2 3 1 1 1 3 4 3 3 2 2\n",
            " 1 1 2 4 1 4 3 3 3 3 3 2 1 1 1 1 3 3 1 4 2 1 1 3 3 3 3 1 1 1 1 1 1 1 1 2 4\n",
            " 2 1 4 1 1 1 1 1 1 1 1 1 1 1 1 1 1 1 1 1 1 1 1 1 1 1 1 1 1 1 1 1 1 1 1 1 1\n",
            " 1 1 1 1 1 1 4 1 1 1 1 1 1 1 1 1 1 1 1 1 1 1 1 1 1 1 1 4 4 1 1 2 1 3 1 1 1\n",
            " 1 1 1 1 1 1 1 1 4 1 1 1 4 4 1 2 1 1 1 1 1 1 1 1 4 1 1 1 1 1 1 1 2 1 3 1 1\n",
            " 1 2 1 1 1 1 3 1 2 1 1 1 1 1 2 1 1 1 2 2 3 2 2 2 4 1 3 1 3 1 4 4 2 2 2 2 2\n",
            " 2 2 4 2 2 2 4 3 4 2 2 2 2 2 2 2 2 2 2 2 2 4 2 2 4 3 3 3 3 2 4 2 4 2 2 3 4\n",
            " 4 2 2 3 3 2 4 2 3 3 3 3 3 3 3 3 3 3 3 2 2 2 3 3 3 2 4 3 3 4 2 2 3]\n"
          ]
        }
      ]
    },
    {
      "cell_type": "markdown",
      "source": [
        "####**Question 1 (10 points)**: Make an timeseries plot showing the index for each day of the year.  Your y-axis should be cluster number and your x-axis should be day of the year. ####"
      ],
      "metadata": {
        "id": "SWcesotu-12n"
      }
    },
    {
      "cell_type": "code",
      "source": [
        "### put your answer to question 1 in code format here:\n",
        "\n",
        "\n",
        "day=np.arange(1,367,1)\n",
        "plt.plot(day,idx,'.');\n",
        "plt.ylabel('cluster');\n",
        "plt.xlabel('day of the year in 2016');"
      ],
      "metadata": {
        "id": "aBkTLbyL_d1L",
        "colab": {
          "base_uri": "https://localhost:8080/",
          "height": 279
        },
        "outputId": "02267c85-783c-4ae1-c476-a89da085038d"
      },
      "execution_count": 17,
      "outputs": [
        {
          "output_type": "display_data",
          "data": {
            "text/plain": [
              "<Figure size 432x288 with 1 Axes>"
            ],
            "image/png": "[encoded data removed]"
          },
          "metadata": {
            "needs_background": "light"
          }
        }
      ]
    },
    {
      "cell_type": "markdown",
      "source": [
        "####**Question 2 (10 points)**: After looking at the cluster assignment for each calendar day of the year, can you associate each cluster with a date-based season?  In other words, does July all have one cluster that corresponds to summer?  Does January all have one cluster that corresponds to winter?  What have you learned from seeing the cluster assignment for each day of the calendar year? ####"
      ],
      "metadata": {
        "id": "dbShZYKv_Z9S"
      }
    },
    {
      "cell_type": "markdown",
      "source": [
        "**Answer**: Edit this cell and write your answer to question 2 in 2-3 complete sentences."
      ],
      "metadata": {
        "id": "GqpYjglC_Atn"
      }
    },
    {
      "cell_type": "markdown",
      "source": [
        "**STEP 7: Visualize your results**. How do the input meteorological variables associate with each individual cluster?"
      ],
      "metadata": {
        "id": "eWZB4cSsAOTe"
      }
    },
    {
      "cell_type": "code",
      "execution_count": 18,
      "metadata": {
        "colab": {
          "base_uri": "https://localhost:8080/",
          "height": 796
        },
        "id": "vZDf4euLgSkG",
        "outputId": "49bfc9c3-f289-49bc-da89-31daff507644"
      },
      "outputs": [
        {
          "output_type": "stream",
          "name": "stdout",
          "text": [
            "['temp_F', 'RH', 'dewtemp_F', 'wind_mph', 'wind_dir', 'windgust', 'windgust_dir', 'pres_mb', 'SOLIN_Wm2', 'Prec_inches']\n",
            "plotting these variables: ['wind_mph', 'temp_F']\n",
            "wind_mph\n",
            "temp_F\n"
          ]
        },
        {
          "output_type": "display_data",
          "data": {
            "text/plain": [
              "<Figure size 576x360 with 1 Axes>"
            ],
            "image/png": "[encoded data removed]"
          },
          "metadata": {
            "needs_background": "light"
          }
        },
        {
          "output_type": "display_data",
          "data": {
            "text/plain": [
              "<Figure size 576x360 with 1 Axes>"
            ],
            "image/png": "[encoded data removed]"
          },
          "metadata": {
            "needs_background": "light"
          }
        }
      ],
      "source": [
        "## Create a few xy scatter plots, where points are colored by \"season\" (from clustering algorithm)\n",
        "## and each k-means-determined centroid is in a red stars overlaid.\n",
        "\n",
        "### Pick any two variables that are a part of included_cols\n",
        "print(included_cols)\n",
        "### select two variables and put them in vars2plot - # format (x, y)\n",
        "##vars2plot = ['temp_F','SOLIN_Wm2']\n",
        "\n",
        "vars2plot = ['wind_mph','temp_F']\n",
        "print(f'plotting these variables: {vars2plot}')\n",
        "\n",
        "### other options (code to steal for later)\n",
        "#vars2plot = ['RH','wind_mph']\n",
        "#vars2plot = ['temp_F','pres_mb'] # format (x, y)\n",
        "#vars2plot = ['temp_F','wind_mph'] # format (x, y)\n",
        "#vars2plot = ['wind_mph','windgust'] # format (x, y)\n",
        "\n",
        "data2plot = [data[:,included_cols.index(var)] for var in vars2plot]\n",
        "\n",
        "## find the integer index of the variable to plot\n",
        "varidx2plot=np.zeros(2,dtype=\"int\")\n",
        "for i in np.arange(0,2):\n",
        "  print(vars2plot[i])\n",
        "  varidx2plot[i]=included_cols.index(vars2plot[i])\n",
        "#print(varidx2plot)\n",
        "\n",
        "### Now plot these variables as scaled values with the cluster centers\n",
        "plt.figure(figsize=(8,5))\n",
        "plt.title('K-means classification with ' + str(NO_CLUSTERS) + ' Clusters',fontsize=22)\n",
        "plt.scatter(scaled_data[:, varidx2plot[0]], scaled_data[:, varidx2plot[1]])\n",
        "plt.scatter(centroids[:, varidx2plot[0]], centroids[:, varidx2plot[1]],color='red',marker='*',s=1000)\n",
        "plt.xticks(fontsize=18)\n",
        "plt.yticks(fontsize=18)\n",
        "plt.xlabel('scaled '+vars2plot[0],fontsize=18);\n",
        "plt.ylabel('scaled '+vars2plot[1],fontsize=18);\n",
        "plt.show()\n",
        "\n",
        "### Next plot these variables as the original valueswith colors to identify the associated cluster\n",
        "# (red=1, blue=2, grey=3, orange=4)\n",
        "cols = ['','red','blue','grey','orange']\n",
        "plt.figure(figsize=(8,5))\n",
        "plt.title('K-means classification with ' + str(NO_CLUSTERS) + ' Clusters',fontsize=22)\n",
        "for (ind,val) in enumerate(np.transpose(data2plot)):\n",
        "    plt.plot(val[0],val[1],\".\", color=cols[idx[ind]], markersize=10, markerfacecolor = 'none')\n",
        "plt.xticks(fontsize=18)\n",
        "plt.yticks(fontsize=18)\n",
        "plt.xlabel(vars2plot[0],fontsize=18);\n",
        "plt.ylabel(vars2plot[1],fontsize=18);"
      ]
    },
    {
      "cell_type": "markdown",
      "source": [
        "####**Question 3 (10 points)**: Which meteorological variables enable the most distinct clusters to be formed?  For example, is temperature better than wind speed in differentiating between the different clusters? ####"
      ],
      "metadata": {
        "id": "PCqIBaqLAvgF"
      }
    },
    {
      "cell_type": "markdown",
      "source": [
        "**Answer**: Edit this cell and write your answer to question 3 in 2-3 complete sentences."
      ],
      "metadata": {
        "id": "cRWQ1LAeA79c"
      }
    },
    {
      "cell_type": "markdown",
      "source": [
        "**STEP 8: Visualize your results.** Show cluster assignments for the date-based seasons using histograms."
      ],
      "metadata": {
        "id": "Iszyv49SWgED"
      }
    },
    {
      "cell_type": "code",
      "source": [
        "#### prepare data\n",
        "\n",
        "### check the shapes\n",
        "## date-based season from the definition in the season dictionary above\n",
        "season_idx=df['season'][df.hour==0.5].to_numpy()\n",
        "print(season_idx.shape)\n",
        "## \"season\" from the k-means clustering algorithm\n",
        "print(idx.shape)\n",
        "\n",
        "### find the k-means cluster value assigned for each time in each season\n",
        "\n",
        "## find all of the times in winter, i.e., where season_idx=1\n",
        "winteridx=np.nonzero(np.where(season_idx==1,1,0))\n",
        "#print(winteridx) ### uncomment me to check the code\n",
        "## find what values the k-means classified for this season\n",
        "winter=idx[winteridx]\n",
        "#print(winter)  ### uncomment me to check the code\n",
        "\n",
        "## find all of the times in spring, i.e., where season_idx=2\n",
        "springidx=np.nonzero(np.where(season_idx==2,1,0))\n",
        "## find what values the k-means classified for this season\n",
        "spring=idx[springidx]\n",
        "\n",
        "## find all of the times in summer, i.e., where season_idx=3\n",
        "summeridx=np.nonzero(np.where(season_idx==3,1,0))\n",
        "## find what values the k-means classified for this season\n",
        "summer=idx[summeridx]\n",
        "\n",
        "## find all of the times in fall, i.e., where season_idx=4\n",
        "fallidx=np.nonzero(np.where(season_idx==4,1,0))\n",
        "## find what values the k-means classified for this season\n",
        "fall=idx[fallidx]"
      ],
      "metadata": {
        "colab": {
          "base_uri": "https://localhost:8080/"
        },
        "id": "qpb7injEjut7",
        "outputId": "d61cd853-40a5-4686-96fd-5cc915f193ef"
      },
      "execution_count": 19,
      "outputs": [
        {
          "output_type": "stream",
          "name": "stdout",
          "text": [
            "(366,)\n",
            "(366,)\n"
          ]
        }
      ]
    },
    {
      "cell_type": "code",
      "source": [
        "## find all of the times in two seasons (code just for reference)\n",
        "#transidx=np.append(np.where(season_idx==2),np.where(season_idx==4))\n",
        "## find what values the k-means classified for this season\n",
        "#trans=idx[transidx]"
      ],
      "metadata": {
        "id": "nuTmJ29lV55k"
      },
      "execution_count": 20,
      "outputs": []
    },
    {
      "cell_type": "code",
      "execution_count": 21,
      "metadata": {
        "colab": {
          "base_uri": "https://localhost:8080/",
          "height": 281
        },
        "id": "iqZlhaJUgSkG",
        "outputId": "141ac9dc-f3eb-4789-9aad-7ae399610f84"
      },
      "outputs": [
        {
          "output_type": "display_data",
          "data": {
            "text/plain": [
              "<Figure size 432x288 with 1 Axes>"
            ],
            "image/png": "[encoded data removed]"
          },
          "metadata": {
            "needs_background": "light"
          }
        }
      ],
      "source": [
        "### Calculate and plot histogram type #1 - \n",
        "## Compare # of values in each date-based season and in each k-means cluster \"season\"\n",
        "\n",
        "## define bins for the histogram\n",
        "delta= 1                               ## bin size\n",
        "minbin= 0.5                             ## minimum bin value\n",
        "maxbin= 5.5                              ## maximum bin value\n",
        "hist_bins = np.arange(minbin,maxbin,delta) ## bins\n",
        "#print(hist_bins) ## print your histograms to check them\n",
        "\n",
        "#### plot the histogram\n",
        "h, mids = np.histogram(idx,bins=hist_bins);\n",
        "plt.hist(idx,bins=mids,facecolor='white',edgecolor=\"grey\",label='cluster seasons',lw=2);\n",
        "plt.hist(season_idx,bins=mids,facecolor='r',edgecolor=\"r\",label='date-based seasons',alpha=0.5,lw=2);\n",
        "plt.ylabel('count')\n",
        "plt.ylim(0,150)\n",
        "plt.xticks(np.arange(1,4+1),labels=['season1','season2','season3','season4']);\n",
        "plt.legend();\n",
        "plt.title('Date-based seasons (red) vs. Clustering \"seasons\" (black)');"
      ]
    },
    {
      "cell_type": "code",
      "source": [
        "### Histogram Type #2 - Histograms of k-means clustering results for each season\n",
        "\n",
        "## define bins for the histogram\n",
        "delta= 1                               ## bin size\n",
        "minbin= 0.5                             ## minimum bin value\n",
        "maxbin= 5.5                              ## maximum bin value\n",
        "hist_bins = np.arange(minbin,maxbin,delta) ## bins\n",
        "#print(hist_bins) ## print your histograms to check them\n",
        "\n",
        "## sanity check = plot the histogram of assigned clusters for winter\n",
        "#h, mids = np.histogram(winter,bins=hist_bins);\n",
        "#labels4xaxis=['cluster1','cluster2','cluster3','cluster4']\n",
        "#plt.figure(figsize=(4,4))\n",
        "#plt.hist(winter,bins=mids,facecolor='w',edgecolor=\"k\");\n",
        "#plt.xticks(np.arange(1,4+1),labels=labels4xaxis);\n",
        "#plt.title('Winter');\n",
        "#plt.show();\n",
        "\n",
        "### Show all seasons using subplots\n",
        "### Help with subplots: https://matplotlib.org/devdocs/gallery/subplots_axes_and_figures/subplots_demo.html\n",
        "\n",
        "labels4xaxis=['','cluster1','cluster2','cluster3','cluster4']\n",
        "\n",
        "fig, ((ax1, ax2), (ax3, ax4)) = plt.subplots(2, 2)\n",
        "fig.suptitle('k-means clustering results - all seasons',fontsize=20)\n",
        "fig.set_figheight(6)\n",
        "fig.set_figwidth(8)\n",
        "\n",
        "ymax=100\n",
        "h, mids = np.histogram(winter,bins=hist_bins);\n",
        "ax1.hist(winter,bins=mids,facecolor='w',edgecolor=\"k\");\n",
        "ax1.set_title(\"winter\");\n",
        "ax1.set_ylabel(\"count\");\n",
        "ax1.set_ylim(0,ymax)\n",
        "h, mids = np.histogram(spring,bins=hist_bins);\n",
        "ax2.hist(spring,bins=mids,facecolor='w',edgecolor=\"k\");\n",
        "ax2.set_title(\"spring\");\n",
        "ax2.set_ylim(0,ymax)\n",
        "h, mids = np.histogram(summer,bins=hist_bins);\n",
        "ax3.hist(summer,bins=mids,facecolor='w',edgecolor=\"k\");\n",
        "ax3.set_title(\"summer\");\n",
        "ax3.set_xticklabels(labels4xaxis);\n",
        "ax3.set_ylabel(\"count\");\n",
        "ax3.set_ylim(0,ymax)\n",
        "h, mids = np.histogram(fall,bins=hist_bins);\n",
        "ax4.hist(fall,bins=mids,facecolor='w',edgecolor=\"k\");\n",
        "ax4.set_title(\"fall\");\n",
        "ax4.set_xticklabels(labels4xaxis);\n",
        "ax4.set_ylim(0,ymax)\n",
        "\n",
        "for ax in fig.get_axes():\n",
        "    ax.label_outer()"
      ],
      "metadata": {
        "colab": {
          "base_uri": "https://localhost:8080/",
          "height": 417
        },
        "id": "YWHeMgZgUQ8v",
        "outputId": "262cd06d-65b3-48e1-f4b7-3b872675e33b"
      },
      "execution_count": 23,
      "outputs": [
        {
          "output_type": "display_data",
          "data": {
            "text/plain": [
              "<Figure size 576x432 with 4 Axes>"
            ],
            "image/png": "[encoded data removed]"
          },
          "metadata": {
            "needs_background": "light"
          }
        }
      ]
    },
    {
      "cell_type": "markdown",
      "source": [
        "####**Question 4 (20 points)**: Using histogram 1 - How often do each of the clusters occur - and how does that distribution compare to date-based season?  Using histogram 2 - How to the cluster based vs. date-based seasons differ when you look by month?  What do you learn from comparing the histograms of the cluster-based seasons and the date-based seasons? Are the values based on the clustering analysis evenly distributed into 4 seasons?  ####"
      ],
      "metadata": {
        "id": "iOk507MAC-6T"
      }
    },
    {
      "cell_type": "markdown",
      "source": [
        "**Answer**: Edit this cell and write your answer to question 4 in 4-5 complete sentences."
      ],
      "metadata": {
        "id": "xozKoVYEDAId"
      }
    },
    {
      "cell_type": "markdown",
      "source": [
        "####**Question 5 (10 points)**: Tell a friend who isn't enrolled in this class what you learned from this analysis.  In other words, what did clustering tell you that you think is important and easy to communicate?####"
      ],
      "metadata": {
        "id": "IsIKOmqEEWRa"
      }
    },
    {
      "cell_type": "markdown",
      "source": [
        "**Answer**: Edit this cell and write your answer to question 5 in 2-3 complete sentences."
      ],
      "metadata": {
        "id": "Xj-vwt1aEjWG"
      }
    },
    {
      "cell_type": "markdown",
      "source": [
        "##...................SAVE A COPY OF COMPLETED NOTEBOOK BEFORE YOU PROCEED..........................##"
      ],
      "metadata": {
        "id": "VNKmZM5pEpZl"
      }
    },
    {
      "cell_type": "markdown",
      "source": [
        "**Once the code above makes sense and you have answered all 6 questions above... It's time to choose your own adventure and start to explore this analysis further! Pick one of the options below as a group and... \"Tinker!!\". We recommmend you copy the code into a new notebook so that you retain this notebook for easy comparison.**. "
      ],
      "metadata": {
        "id": "YqL0F7FjkwOk"
      }
    },
    {
      "cell_type": "markdown",
      "source": [
        "**Option #1: Make a copy of this notebook, rename it, and re-run the analysis... but change the code so that you use a different number of clusters (recommend to try 2 clusters, 3 clusters)**. Why did you want to change the number of clusters you are using? Does the k-means cluster gives different results when you change the number of clusters? Which number of clusters (i.e., number of seasons identified using k-means clustering) make more sense to you based on your analysis and also your experience living along the front range of Colorado? "
      ],
      "metadata": {
        "id": "_WSWd0wxYh4z"
      }
    },
    {
      "cell_type": "markdown",
      "source": [
        "**Option #2: Make a copy of this notebook, rename it, and re-run the analysis...  but change the code to so that you cluster with less than the original 10 variables**. Which variables (also called \"features\" in machine learning lingo) are most important for defining the clusters?  What happens if you only cluster based on the wind variables? Re-run your analysis with variables that you think are most (or least!) important for defining the seasons..."
      ],
      "metadata": {
        "id": "lxHQRMWmYpXI"
      }
    },
    {
      "cell_type": "markdown",
      "source": [
        "**Option #3: Make a copy of this notebook, rename it, and re-run the analysis...   Recall this code selected only the data at local noon.** What happens if you run this analysis based on 6 am or 6 pm?  What happens if you run this analysis based on all times of day?"
      ],
      "metadata": {
        "id": "63P1SqTyZXQ9"
      }
    },
    {
      "cell_type": "markdown",
      "source": [
        "####**Question 6 (10 points)**: List all of the code changes required to implement the option you select. ####"
      ],
      "metadata": {
        "id": "QGT_PvzCDRaE"
      }
    },
    {
      "cell_type": "markdown",
      "source": [
        "**Answer**: Edit this cell and write your answer to question 7."
      ],
      "metadata": {
        "id": "2ATM5yMZDbne"
      }
    },
    {
      "cell_type": "markdown",
      "source": [
        "####**Question 7 (10 points)**: What has changed in your new clustering analysis? Why?  ####"
      ],
      "metadata": {
        "id": "Y7abIkdND07W"
      }
    },
    {
      "cell_type": "markdown",
      "source": [
        "**Answer**: Edit this cell and write your answer to question 8."
      ],
      "metadata": {
        "id": "Pt-B5joNEC_K"
      }
    },
    {
      "cell_type": "markdown",
      "source": [
        "####**Question 8 (10 points)**: What has stayed the same in your new clustering analysis?  ####\n",
        "\n",
        "\n",
        "\n"
      ],
      "metadata": {
        "id": "9j5nKMguEC2B"
      }
    },
    {
      "cell_type": "markdown",
      "source": [
        "**Answer**: Edit this cell and write your answer to question 9."
      ],
      "metadata": {
        "id": "U2dxpTS3ECmL"
      }
    },
    {
      "cell_type": "markdown",
      "source": [
        "####**Question 9 (10 points)**: What has stayed the same in your new analysis?  ####\n"
      ],
      "metadata": {
        "id": "w8RzCI2UEMJS"
      }
    },
    {
      "cell_type": "markdown",
      "source": [
        "**Answer**: Edit this cell and write your answer to question 10."
      ],
      "metadata": {
        "id": "-cXu5nlyJ0nE"
      }
    },
    {
      "cell_type": "markdown",
      "source": [
        "## END OF APPLICATION LAB #3 - Congratulations!! ##"
      ],
      "metadata": {
        "id": "3P5a6UTwYv-A"
      }
    }
  ],
  "metadata": {
    "kernelspec": {
      "display_name": "intro2ml_environment",
      "language": "python",
      "name": "intro2ml_environment"
    },
    "language_info": {
      "codemirror_mode": {
        "name": "ipython",
        "version": 3
      },
      "file_extension": ".py",
      "mimetype": "text/x-python",
      "name": "python",
      "nbconvert_exporter": "python",
      "pygments_lexer": "ipython3",
      "version": "3.7.6"
    },
    "colab": {
      "name": "ATOC4500_applicationlab3.ipynb",
      "provenance": [],
      "collapsed_sections": []
    }
  },
  "nbformat": 4,
  "nbformat_minor": 0
}