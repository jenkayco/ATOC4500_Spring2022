{
  "nbformat": 4,
  "nbformat_minor": 0,
  "metadata": {
    "colab": {
      "name": "confidence_intervals.ipynb",
      "provenance": []
    },
    "kernelspec": {
      "name": "python3",
      "display_name": "Python 3"
    },
    "language_info": {
      "name": "python"
    }
  },
  "cells": [
    {
      "cell_type": "markdown",
      "source": [
        "\n",
        "##Confidence intervals##"
      ],
      "metadata": {
        "id": "xjYU5RiscxKp"
      }
    },
    {
      "cell_type": "markdown",
      "source": [
        "**General idea**\n",
        "\n",
        "\n",
        "The $p \\%$ confidence interval $[a, b]$ for the parameter, $y$, is the interval that contains the true parameter $p \\%$ of the time. In math speak,\n",
        "\n",
        "$$\n",
        "a \\leqslant y \\leqslant b\n",
        "$$\n",
        "\n",
        "For better or worse, you will find that the $p=95 \\%$ confidence interval is used the majority of the time.\n",
        "\n",
        "With real data, if you have enough of it, you can calculated the confidence interval by calculating the $2.5 \\%$-tile and $97.5 \\%$-tile, and then you have your confidence interval."
      ],
      "metadata": {
        "id": "lI83t8cxc3RR"
      }
    },
    {
      "cell_type": "markdown",
      "source": [
        "**Relationship with $\\alpha$ and the t-score and z-score**\n",
        "\n",
        "Recall from our discussion of cumulative probability density function F, that\n",
        "\n",
        "$$\n",
        "\\begin{aligned}\n",
        "\\operatorname{Pr}(a \\leqslant x \\leqslant b) &=\\int_{a}^{b} f(x) d x \\\\\n",
        "\\operatorname{Pr}(a \\leqslant x \\leqslant b) &=F(b)-F(a)\n",
        "\\end{aligned}\n",
        "$$\n",
        "\n",
        "For a standard normal random variable $z$, we determined that\n",
        "\n",
        "$$\n",
        "\\begin{aligned}\n",
        "&\\boldsymbol{\\operatorname { P r }}(-1 \\leqslant z \\leqslant 1)=68.27 \\% \\\\\n",
        "&\\boldsymbol{\\operatorname { P r }}(-2 \\leqslant z \\leqslant 2)=95.45 \\%\n",
        "\\end{aligned}\n",
        "$$\n",
        "\n",
        "These are confidence intervals for $z$. The first is the $68.27 \\%$ confidence interval, and the second is the $95.45 \\%$ interval.\n",
        "\n",
        "To find the $95 \\%$ confidence interval for $z$, or $\\alpha=0.05$, we need to use our $F(z)$ table, and find the upper-bound b where\n",
        "\n",
        "$$\n",
        "\\boldsymbol{\\operatorname { P r }}(z) \\geqslant \\mathrm{b}=1-\\frac{\\alpha}{2}=0.975\n",
        "$$\n",
        "\n",
        "Recall, we look for $0.975$ because we want the total area to add to $5 \\%(\\alpha=0.05)$, and we want the interval to be symmetric - so, $2.5 \\%(\\alpha / 2)$ on the upper and $2.5 \\%(\\alpha / 2)$ on the lower.\n",
        "\n",
        "If you look at your table, you will find that $z_{\\alpha / 2}=b=1.96$. Thus, the $95 \\%$ confidence bounds on $z$ are\n",
        "\n",
        "$$\n",
        "\\begin{aligned}\n",
        "-z_{\\alpha / 2} & \\leqslant z \\leqslant z_{\\alpha / 2} \\\\\n",
        "-z_{0.025} & \\leqslant z \\leqslant z_{0.025} \\\\\n",
        "-1.96 & \\leqslant z \\leqslant 1.96\n",
        "\\end{aligned}\n",
        "$$\n",
        "\n",
        "A useful way to interpret this confidence interval is that $95 \\%$ of the time, the true $z$ falls within - $1.96$ and $1.96$, so, the probability of measuring a $z$ outside of this range is $5 \\%$ by random chance. This is often considered small odds. Thus, one often interprets this as interesting, and potentially implying that the measured z has something interesting going on, different from what might be expected from random chance.\n",
        "\n",
        "For the standard t-statistic t, the confidence intervals are different than for $z$ when the number in the sample $\\mathrm{N} \\leqslant 30 .$ Also, recall that the t-statistic requires the degrees of freedom $v$ as well. However, these slight differences withstanding, calculating the confidence interval is exactly the same as for the z-score. For example, say we have a random variable $t$ with $\\mathrm{N}=12$ (degrees of freedom $v=11$ ). Using our table, we find that the $95 \\%$ confidence interval $(\\alpha=0.05)$ for $t$ is\n",
        "\n",
        "$$\n",
        "\\begin{aligned}\n",
        "-t_{\\alpha / 2} & \\leqslant t \\leqslant t_{\\alpha / 2} \\\\\n",
        "-t_{0.025} & \\leqslant t \\leqslant t_{0.025} \\\\\n",
        "-2.20 & \\leqslant t \\leqslant 2.20\n",
        "\\end{aligned}\n",
        "$$\n",
        "\n",
        "Likewise, for the $90 \\%$ confidence interval with $v=11$\n",
        "\n",
        "$$\n",
        "\\begin{aligned}\n",
        "&-t_{\\alpha / 2} \\leqslant t \\leqslant t_{\\alpha / 2} \\\\\n",
        "&-t_{0.05} \\leqslant t \\leqslant t_{0.05} \\\\\n",
        "&-1.80 \\leqslant t \\leqslant 1.80\n",
        "\\end{aligned}\n",
        "$$"
      ],
      "metadata": {
        "id": "uS_5ubr9dFuM"
      }
    },
    {
      "cell_type": "markdown",
      "source": [
        "**Applying confidence intervals to non-standardized variables**\n",
        "\n",
        "The above examples, are a relatively straight-forward application of the t-score and z-score because we are dealing with standardized data. However, what if your data is not standardized? You have two options, (1) you can standardize your data and then do all of your analysis using standard normal variables (as above), or, (2) you can use a modified equation for the confidence interval that takes into consideration the real data's mean $\\mu$ and standard deviation $\\sigma$.\n",
        "\n",
        "Recall that for the sample mean, we know that the standardized z-score is\n",
        "\n",
        "$$\n",
        "z=\\frac{\\bar{\\chi}-\\mu}{\\frac{\\sigma}{\\sqrt{N}}}\n",
        "$$\n",
        "\n",
        "So, if you want to calculate the $95 \\%$ confidence interval using the z-statistic for the true distribution mean $\\mu$ given your measured sample mean $\\bar{\\chi}(\\mathrm{N}$ samples $)$, you would write the following\n",
        "\n",
        "$$\n",
        "\\bar{\\chi}-z_{0.025} \\cdot \\frac{\\sigma}{\\sqrt{N}} \\leqslant \\mu \\leqslant \\bar{\\chi}+z_{0.025} \\cdot \\frac{\\sigma}{\\sqrt{N}}\n",
        "$$\n",
        "\n",
        "Note that while this equation looks messy, it is really just the z-distribution shifted over by $\\bar{\\chi}$ and scaled by $\\sigma / \\sqrt{\\mathrm{N}}$. As before $z_{\\alpha / 2}=1.96$.\n",
        "\n",
        "For the t-statistic, the true distribution mean has the following $95 \\%$ confidence interval\n",
        "\n",
        "$$\n",
        "\\begin{aligned}\n",
        "&\\qquad \\bar{\\chi}-t_{0.025} \\cdot \\frac{\\sigma}{\\sqrt{\\mathrm{N}-1}} \\leqslant \\mu \\leqslant \\bar{\\chi}+t_{0.025} \\cdot \\frac{\\sigma}{\\sqrt{\\mathrm{N}-1}} \\\\\n",
        "\\end{aligned}\n",
        "$$\n",
        "\n",
        "Finally, since the normal distribution is symmetric, the above confidence intervals can be re-written more simply as\n",
        "\n",
        "$$\n",
        "\\begin{aligned}\n",
        "&\\mu=\\bar{\\chi} \\pm z_{0.025} \\cdot \\frac{\\sigma}{\\sqrt{\\mathrm{N}}} \\\\\n",
        "&\\mu=\\bar{\\chi} \\pm t_{0.025} \\cdot \\frac{\\sigma}{\\sqrt{\\mathrm{N}-1}}\n",
        "\\end{aligned}\n",
        "$$"
      ],
      "metadata": {
        "id": "lfkpExr2cp5U"
      }
    },
    {
      "cell_type": "markdown",
      "source": [
        ""
      ],
      "metadata": {
        "id": "FRiuWQ2acyDU"
      }
    }
  ]
}